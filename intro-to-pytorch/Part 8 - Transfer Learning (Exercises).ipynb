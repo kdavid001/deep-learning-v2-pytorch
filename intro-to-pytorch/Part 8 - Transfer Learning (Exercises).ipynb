{
 "cells": [
  {
   "cell_type": "code",
   "source": [
    "from google.colab import drive\n",
    "drive.mount('/content/drive')"
   ],
   "metadata": {
    "colab": {
     "base_uri": "https://localhost:8080/"
    },
    "id": "83hQMGvTbYVa",
    "executionInfo": {
     "status": "ok",
     "timestamp": 1749202910098,
     "user_tz": -60,
     "elapsed": 1967,
     "user": {
      "displayName": "Korede david",
      "userId": "04917254983458292970"
     }
    },
    "outputId": "c042cc06-d5eb-4f19-9d80-94611f5e63bd"
   },
   "execution_count": 13,
   "outputs": []
  },
  {
   "cell_type": "markdown",
   "metadata": {
    "id": "yjO6_OJRbVVE"
   },
   "source": [
    "# Transfer Learning\n",
    "\n",
    "In this notebook, you'll learn how to use pre-trained networks to solved challenging problems in computer vision. Specifically, you'll use networks trained on [ImageNet](http://www.image-net.org/) [available from torchvision](http://pytorch.org/docs/0.3.0/torchvision/models.html).\n",
    "\n",
    "ImageNet is a massive dataset with over 1 million labeled images in 1000 categories. It's used to train deep neural networks using an architecture called convolutional layers. I'm not going to get into the details of convolutional networks here, but if you want to learn more about them, please [watch this](https://www.youtube.com/watch?v=2-Ol7ZB0MmU).\n",
    "\n",
    "Once trained, these models work astonishingly well as feature detectors for images they weren't trained on. Using a pre-trained network on images not in the training set is called transfer learning. Here we'll use transfer learning to train a network that can classify our cat and dog photos with near perfect accuracy.\n",
    "\n",
    "With `torchvision.models` you can download these pre-trained networks and use them in your applications. We'll include `models` in our imports now."
   ]
  },
  {
   "cell_type": "code",
   "metadata": {
    "ExecuteTime": {
     "end_time": "2025-06-04T12:54:31.914962Z",
     "start_time": "2025-06-04T12:54:28.368626Z"
    },
    "colab": {
     "base_uri": "https://localhost:8080/"
    },
    "id": "xg7xH_b6bVVG",
    "executionInfo": {
     "status": "ok",
     "timestamp": 1749202910107,
     "user_tz": -60,
     "elapsed": 9,
     "user": {
      "displayName": "Korede david",
      "userId": "04917254983458292970"
     }
    },
    "outputId": "052863b5-c22e-4ce5-b4c4-d14ddb6e919f"
   },
   "source": [
    "import torch\n",
    "import torchvision\n",
    "\n",
    "print(torch.__version__)\n",
    "print(torchvision.__version__)\n",
    "print(torch.backends.mps.is_available())  # True means MPS (Apple Metal GPU) is ready to use\n",
    "print(torch.cuda.is_available())          # Will be False on M1 Macs (no CUDA)"
   ],
   "execution_count": 14,
   "outputs": []
  },
  {
   "cell_type": "code",
   "metadata": {
    "ExecuteTime": {
     "end_time": "2025-06-04T12:54:32.229850Z",
     "start_time": "2025-06-04T12:54:31.916342Z"
    },
    "id": "AOkdqg43bVVH",
    "executionInfo": {
     "status": "ok",
     "timestamp": 1749202910109,
     "user_tz": -60,
     "elapsed": 1,
     "user": {
      "displayName": "Korede david",
      "userId": "04917254983458292970"
     }
    }
   },
   "source": [
    "%matplotlib inline\n",
    "%config InlineBackend.figure_format = 'retina'\n",
    "\n",
    "import matplotlib.pyplot as plt\n",
    "\n",
    "import torch\n",
    "from torch import nn\n",
    "from torch import optim\n",
    "import torch.nn.functional as F\n",
    "from torchvision import datasets, transforms, models"
   ],
   "execution_count": 15,
   "outputs": []
  },
  {
   "cell_type": "markdown",
   "metadata": {
    "id": "b8eWB1dFbVVH"
   },
   "source": [
    "Most of the pretrained models require the input to be 224x224 images. Also, we'll need to match the normalization used when the models were trained. Each color channel was normalized separately, the means are `[0.485, 0.456, 0.406]` and the standard deviations are `[0.229, 0.224, 0.225]`."
   ]
  },
  {
   "cell_type": "code",
   "metadata": {
    "ExecuteTime": {
     "end_time": "2025-06-04T13:45:31.736403Z",
     "start_time": "2025-06-04T13:45:31.586713Z"
    },
    "id": "KU9UwSZVSWcR",
    "executionInfo": {
     "status": "ok",
     "timestamp": 1749202911017,
     "user_tz": -60,
     "elapsed": 907,
     "user": {
      "displayName": "Korede david",
      "userId": "04917254983458292970"
     }
    }
   },
   "source": [
    "data_dir = \"/content/drive/MyDrive/pythonprojects/deep-learning-v2-pytorch/Cat_Dog_data\"\n",
    "\n",
    "# TODO: Define transforms for the training data and testing data\n",
    "train_transforms = transforms.Compose([transforms.RandomRotation(30),\n",
    "                                       transforms.RandomResizedCrop(224),\n",
    "                                       transforms.RandomHorizontalFlip(),\n",
    "                                       transforms.ToTensor(),\n",
    "                                       transforms.Normalize([0.485, 0.456, 0.406],\n",
    "                                                            [0.229, 0.224, 0.225])])\n",
    "\n",
    "test_transforms = transforms.Compose([transforms.Resize(255),\n",
    "                                      transforms.CenterCrop(224),\n",
    "                                      transforms.ToTensor(),\n",
    "                                      transforms.Normalize([0.485, 0.456, 0.406],\n",
    "                                                           [0.229, 0.224, 0.225])])\n",
    "\n",
    "# Pass transforms in here, then run the next cell to see how the transforms look\n",
    "train_data = datasets.ImageFolder(data_dir + '/train', transform=train_transforms)\n",
    "test_data = datasets.ImageFolder(data_dir + '/test', transform=test_transforms)\n",
    "\n",
    "trainloader = torch.utils.data.DataLoader(train_data, batch_size=64, shuffle=True)\n",
    "testloader = torch.utils.data.DataLoader(test_data, batch_size=64)"
   ],
   "execution_count": 16,
   "outputs": []
  },
  {
   "cell_type": "markdown",
   "metadata": {
    "id": "zY5gV1KzbVVH"
   },
   "source": [
    "We can load in a model such as [DenseNet](http://pytorch.org/docs/0.3.0/torchvision/models.html#id5). Let's print out the model architecture so we can see what's going on."
   ]
  },
  {
   "cell_type": "code",
   "metadata": {
    "scrolled": true,
    "ExecuteTime": {
     "end_time": "2025-06-04T12:54:36.749760Z",
     "start_time": "2025-06-04T12:54:36.479827Z"
    },
    "colab": {
     "base_uri": "https://localhost:8080/"
    },
    "id": "gj69DHQxbVVH",
    "executionInfo": {
     "status": "ok",
     "timestamp": 1749202911788,
     "user_tz": -60,
     "elapsed": 773,
     "user": {
      "displayName": "Korede david",
      "userId": "04917254983458292970"
     }
    },
    "outputId": "7ffe1ac9-c706-474e-ad3b-2d8810a44dd2"
   },
   "source": [
    "model = models.densenet121(pretrained=True)\n",
    "# model = models.AlexNet()\n",
    "model"
   ],
   "execution_count": 17,
   "outputs": []
  },
  {
   "cell_type": "markdown",
   "metadata": {
    "id": "iwJnTk2ubVVH"
   },
   "source": [
    "This model is built out of two main parts, the features and the classifier. The features part is a stack of convolutional layers and overall works as a feature detector that can be fed into a classifier. The classifier part is a single fully-connected layer `(classifier): Linear(in_features=1024, out_features=1000)`. This layer was trained on the ImageNet dataset, so it won't work for our specific problem. That means we need to replace the classifier, but the features will work perfectly on their own. In general, I think about pre-trained networks as amazingly good feature detectors that can be used as the input for simple feed-forward classifiers."
   ]
  },
  {
   "cell_type": "code",
   "metadata": {
    "ExecuteTime": {
     "end_time": "2025-06-04T12:54:39.007616Z",
     "start_time": "2025-06-04T12:54:38.987816Z"
    },
    "id": "dLjZ3qefbVVH",
    "executionInfo": {
     "status": "ok",
     "timestamp": 1749202911820,
     "user_tz": -60,
     "elapsed": 1,
     "user": {
      "displayName": "Korede david",
      "userId": "04917254983458292970"
     }
    }
   },
   "source": [
    "# Freeze parameters so we don't backprop through them\n",
    "for param in model.parameters():\n",
    "    param.requires_grad = False\n",
    "\n",
    "# retraining the classifier part to fit out own data and not the complete ImageNet it was trained on\n",
    "from collections import OrderedDict\n",
    "classifier = nn.Sequential(OrderedDict([\n",
    "                          ('fc1', nn.Linear(1024, 500)),\n",
    "                          ('relu', nn.ReLU()),\n",
    "                          ('fc2', nn.Linear(500, 2)),\n",
    "                          ('output', nn.LogSoftmax(dim=1))\n",
    "                          ]))\n",
    "\n",
    "model.classifier = classifier"
   ],
   "execution_count": 18,
   "outputs": []
  },
  {
   "cell_type": "markdown",
   "metadata": {
    "id": "ih34EcLMbVVI"
   },
   "source": [
    "With our model built, we need to train the classifier. However, now we're using a **really deep** neural network. If you try to train this on a CPU like normal, it will take a long, long time. Instead, we're going to use the GPU to do the calculations. The linear algebra computations are done in parallel on the GPU leading to 100x increased training speeds. It's also possible to train on multiple GPUs, further decreasing training time.\n",
    "\n",
    "PyTorch, along with pretty much every other deep learning framework, uses [CUDA](https://developer.nvidia.com/cuda-zone) to efficiently compute the forward and backwards passes on the GPU. In PyTorch, you move your model parameters and other tensors to the GPU memory using `model.to('cuda')`. You can move them back from the GPU with `model.to('cpu')` which you'll commonly do when you need to operate on the network output outside of PyTorch. As a demonstration of the increased speed, I'll compare how long it takes to perform a forward and backward pass with and without a GPU."
   ]
  },
  {
   "cell_type": "code",
   "metadata": {
    "ExecuteTime": {
     "end_time": "2025-06-04T12:54:40.383193Z",
     "start_time": "2025-06-04T12:54:40.380791Z"
    },
    "colab": {
     "base_uri": "https://localhost:8080/"
    },
    "id": "hgWyeL0kbVVI",
    "executionInfo": {
     "status": "ok",
     "timestamp": 1749202911824,
     "user_tz": -60,
     "elapsed": 3,
     "user": {
      "displayName": "Korede david",
      "userId": "04917254983458292970"
     }
    },
    "outputId": "150f62a9-13a2-4be8-ff93-099d9c78f90d"
   },
   "source": [
    "import time\n",
    "import torch\n",
    "print(\"CUDA Available:\", torch.cuda.is_available())"
   ],
   "execution_count": 19,
   "outputs": []
  },
  {
   "cell_type": "code",
   "metadata": {
    "ExecuteTime": {
     "end_time": "2025-06-04T12:56:38.222924Z",
     "start_time": "2025-06-04T12:54:41.061408Z"
    },
    "colab": {
     "base_uri": "https://localhost:8080/"
    },
    "id": "WCQ7440JbVVI",
    "executionInfo": {
     "status": "ok",
     "timestamp": 1749203092322,
     "user_tz": -60,
     "elapsed": 180499,
     "user": {
      "displayName": "Korede david",
      "userId": "04917254983458292970"
     }
    },
    "outputId": "0dc01539-b7f3-469f-fd31-17d9dd31e7c1"
   },
   "source": [
    "for device in ['cpu', 'cuda']:\n",
    "    device = torch.device(\"cuda:0\" if torch.cuda.is_available() else \"cpu\")\n",
    "    criterion = nn.NLLLoss()\n",
    "    # Only train the classifier parameters, feature parameters are frozen\n",
    "    optimizer = optim.Adam(model.classifier.parameters(), lr=0.001)\n",
    "\n",
    "    model.to(device)\n",
    "\n",
    "    for ii, (inputs, labels) in enumerate(trainloader):\n",
    "\n",
    "        # Move input and label tensors to the GPU\n",
    "        inputs, labels = inputs.to(device), labels.to(device)\n",
    "\n",
    "        start = time.time()\n",
    "\n",
    "        outputs = model.forward(inputs)\n",
    "        loss = criterion(outputs, labels)\n",
    "\n",
    "        optimizer.zero_grad()\n",
    "        loss.backward()\n",
    "        optimizer.step()\n",
    "\n",
    "        if ii==3:\n",
    "            break\n",
    "\n",
    "    print(f\"Device = {device}; Time per batch: {(time.time() - start)/3:.3f} seconds\")"
   ],
   "execution_count": 20,
   "outputs": []
  },
  {
   "cell_type": "markdown",
   "metadata": {
    "id": "5TT4o9g3bVVI"
   },
   "source": [
    "You can write device agnostic code which will automatically use CUDA if it's enabled like so:\n",
    "```python\n",
    "# at beginning of the script\n",
    "device = torch.device(\"cuda:0\" if torch.cuda.is_available() else \"cpu\")\n",
    "\n",
    "...\n",
    "\n",
    "# then whenever you get a new Tensor or Module\n",
    "# this won't copy if they are already on the desired device\n",
    "input = data.to(device)\n",
    "model = MyModule(...).to(device)\n",
    "```\n",
    "\n",
    "From here, I'll let you finish training the model. The process is the same as before except now your model is much more powerful. You should get better than 95% accuracy easily.\n",
    "\n",
    ">**Exercise:** Train a pretrained models to classify the cat and dog images. Continue with the DenseNet model, or try ResNet, it's also a good model to try out first. Make sure you are only training the classifier and the parameters for the features part are frozen."
   ]
  },
  {
   "metadata": {
    "ExecuteTime": {
     "end_time": "2025-06-04T13:42:27.962964Z",
     "start_time": "2025-06-04T13:17:14.031578Z"
    },
    "id": "C5ijJWnjbVVI"
   },
   "cell_type": "code",
   "source": [
    "epochs = 1\n",
    "steps = 0\n",
    "print_every = 5\n",
    "running_loss = 0\n",
    "#Images -> Input\n",
    "train_losses, test_losses = [], []\n",
    "for e in range(epochs):\n",
    "    for images, labels in trainloader:\n",
    "        steps += 1\n",
    "        #take the tensors to the hardware to use and process it GPU/CPU for macos-> GPU\n",
    "        images, labels = images.to(device), labels.to(device)\n",
    "\n",
    "\n",
    "        log_ps = model.forward(images)\n",
    "        loss = criterion(log_ps, labels)\n",
    "\n",
    "        optimizer.zero_grad()\n",
    "\n",
    "        loss.backward()\n",
    "        optimizer.step()\n",
    "\n",
    "        running_loss += loss.item()\n",
    "\n",
    "    # Turn off gradients for validation, saves memory and computations\n",
    "    else:\n",
    "\n",
    "        test_loss = 0\n",
    "        accuracy = 0\n",
    "\n",
    "        model.eval()\n",
    "\n",
    "        # Turn off gradients for validation, saves memory and computations\n",
    "        with torch.no_grad():\n",
    "            for images, labels in testloader:\n",
    "                images, labels = images.to(device), labels.to(device)\n",
    "                log_ps = model.forward(images)\n",
    "                test_loss += criterion(log_ps, labels).item() #Batch Loss\n",
    "\n",
    "                ps = torch.exp(log_ps)\n",
    "                top_p, top_class = ps.topk(1, dim=1)\n",
    "                equals = top_class == labels.view(*top_class.shape)\n",
    "                accuracy += torch.mean(equals.type(torch.FloatTensor))\n",
    "\n",
    "\n",
    "        train_losses.append(running_loss/len(trainloader))\n",
    "        test_losses.append(test_loss/len(testloader))\n",
    "\n",
    "        print(\"Epoch: {}/{}.. \".format(e+1, epochs),\n",
    "              \"Training Loss: {:.3f}.. \".format(train_losses[-1]),\n",
    "              \"Test Loss: {:.3f}.. \".format(test_losses[-1]),\n",
    "              \"Test Accuracy: {:.3f}\".format(accuracy/len(testloader)))\n",
    "        running_loss = 0\n",
    "        model.train()"
   ],
   "execution_count": null,
   "outputs": []
  },
  {
   "cell_type": "code",
   "metadata": {
    "ExecuteTime": {
     "end_time": "2025-06-04T13:02:31.454380Z",
     "start_time": "2025-06-04T13:02:02.152571Z"
    },
    "id": "7fmurwXVbVVI",
    "executionInfo": {
     "status": "ok",
     "timestamp": 1749203325517,
     "user_tz": -60,
     "elapsed": 6,
     "user": {
      "displayName": "Korede david",
      "userId": "04917254983458292970"
     }
    }
   },
   "source": [
    "# ## TODO: Use a pretrained model to classify the cat and dog images\n",
    "# test_loss = 0\n",
    "# accuracy = 0\n",
    "# with torch.no_grad():\n",
    "#     for images, labels in testloader:\n",
    "#         images = images.to(device)\n",
    "#         labels = labels.to(device)\n",
    "#\n",
    "#         optimizer.zero_grad()\n",
    "#         test_loss += criterion(model(images), labels).item()\n",
    "#         outputs = model.forward(images)\n",
    "#         loss = criterion(outputs, labels)\n",
    "#\n",
    "#         ps = torch.exp(outputs)\n",
    "#         top_p, top_class = ps.topk(1, dim=1)\n",
    "#         equals = top_class == labels.view(*top_class.shape)\n",
    "#         accuracy += torch.mean(equals.type(torch.FloatTensor))\n",
    "#\n",
    "# model.train()\n",
    "# print(f\"Test Loss: {test_loss/len(testloader):.3f}\")"
   ],
   "execution_count": 22,
   "outputs": []
  }
 ],
 "metadata": {
  "kernelspec": {
   "display_name": "Python 3",
   "name": "python3"
  },
  "language_info": {
   "codemirror_mode": {
    "name": "ipython",
    "version": 3
   },
   "file_extension": ".py",
   "mimetype": "text/x-python",
   "name": "python",
   "nbconvert_exporter": "python",
   "pygments_lexer": "ipython3",
   "version": "3.12.3"
  },
  "colab": {
   "provenance": [],
   "gpuType": "T4"
  },
  "accelerator": "GPU"
 },
 "nbformat": 4,
 "nbformat_minor": 0
}
