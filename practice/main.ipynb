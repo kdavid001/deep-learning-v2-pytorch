{
 "cells": [
  {
   "cell_type": "code",
   "id": "initial_id",
   "metadata": {
    "collapsed": true,
    "ExecuteTime": {
     "end_time": "2025-05-16T12:21:36.111713Z",
     "start_time": "2025-05-16T12:21:31.790302Z"
    }
   },
   "source": "import torch",
   "outputs": [],
   "execution_count": 1
  },
  {
   "metadata": {
    "ExecuteTime": {
     "end_time": "2025-05-16T12:21:36.114986Z",
     "start_time": "2025-05-16T12:21:36.112978Z"
    }
   },
   "cell_type": "code",
   "source": [
    "def sigmoid(x):\n",
    "    return 1/(1+torch.exp(-x))"
   ],
   "id": "b3696e619d936bb4",
   "outputs": [],
   "execution_count": 2
  },
  {
   "metadata": {
    "ExecuteTime": {
     "end_time": "2025-05-16T12:23:15.642486Z",
     "start_time": "2025-05-16T12:23:15.637697Z"
    }
   },
   "cell_type": "code",
   "source": [
    "torch.manual_seed(7)\n",
    "\n",
    "features = torch.randn((1, 5))\n",
    "weights = torch.randn_like(torch.randn((1, 5)))\n",
    "\n",
    "bias = torch.randn((1, 1))"
   ],
   "id": "14687e2722cc2826",
   "outputs": [],
   "execution_count": 19
  },
  {
   "metadata": {
    "ExecuteTime": {
     "end_time": "2025-05-16T12:23:16.132406Z",
     "start_time": "2025-05-16T12:23:16.129733Z"
    }
   },
   "cell_type": "code",
   "source": [
    "# to transpose the matrix\n",
    "features = features.view(5, 1)\n",
    "\n",
    "\"\"\" matmul is used to multiply matrices: note if the matrix(shape) is of the wrong dimentions for multiplication it will not work  \"\"\"\n",
    "\n",
    "# def output(weights, bias, features):\n",
    "#     return sigmoid(torch.sum(torch.mm(weights, features)) + bias)\n",
    "\n",
    "def output(weights, bias, features):\n",
    "    return sigmoid(torch.sum(torch.matmul(weights, features)) + bias)"
   ],
   "id": "45fe7a1587e735b6",
   "outputs": [],
   "execution_count": 20
  },
  {
   "metadata": {
    "ExecuteTime": {
     "end_time": "2025-05-16T12:23:16.667005Z",
     "start_time": "2025-05-16T12:23:16.648050Z"
    }
   },
   "cell_type": "code",
   "source": "y = output(weights, bias, features)",
   "id": "a5e9777dee68c6ca",
   "outputs": [
    {
     "ename": "RuntimeError",
     "evalue": "mat1 and mat2 shapes cannot be multiplied (1x5 and 1x5)",
     "output_type": "error",
     "traceback": [
      "\u001B[0;31m---------------------------------------------------------------------------\u001B[0m",
      "\u001B[0;31mRuntimeError\u001B[0m                              Traceback (most recent call last)",
      "Cell \u001B[0;32mIn[21], line 1\u001B[0m\n\u001B[0;32m----> 1\u001B[0m y \u001B[38;5;241m=\u001B[39m output(weights, bias, features)\n",
      "Cell \u001B[0;32mIn[20], line 8\u001B[0m, in \u001B[0;36moutput\u001B[0;34m(weights, bias, features)\u001B[0m\n\u001B[1;32m      7\u001B[0m \u001B[38;5;28;01mdef\u001B[39;00m \u001B[38;5;21moutput\u001B[39m(weights, bias, features):\n\u001B[0;32m----> 8\u001B[0m     \u001B[38;5;28;01mreturn\u001B[39;00m sigmoid(torch\u001B[38;5;241m.\u001B[39msum(torch\u001B[38;5;241m.\u001B[39mmatmul(weights, features)) \u001B[38;5;241m+\u001B[39m bias)\n",
      "\u001B[0;31mRuntimeError\u001B[0m: mat1 and mat2 shapes cannot be multiplied (1x5 and 1x5)"
     ]
    }
   ],
   "execution_count": 21
  },
  {
   "metadata": {
    "ExecuteTime": {
     "end_time": "2025-05-16T12:22:57.051617Z",
     "start_time": "2025-05-16T12:22:57.046783Z"
    }
   },
   "cell_type": "code",
   "source": "print(y)",
   "id": "bc0d56a7c48b6a01",
   "outputs": [
    {
     "name": "stdout",
     "output_type": "stream",
     "text": [
      "tensor([[0.9741]])\n"
     ]
    }
   ],
   "execution_count": 15
  },
  {
   "metadata": {
    "ExecuteTime": {
     "end_time": "2025-05-13T11:20:46.542735Z",
     "start_time": "2025-05-13T11:20:46.540363Z"
    }
   },
   "cell_type": "code",
   "source": "",
   "id": "57994d17eafdafc9",
   "outputs": [],
   "execution_count": 20
  }
 ],
 "metadata": {
  "kernelspec": {
   "display_name": "Python 3",
   "language": "python",
   "name": "python3"
  },
  "language_info": {
   "codemirror_mode": {
    "name": "ipython",
    "version": 2
   },
   "file_extension": ".py",
   "mimetype": "text/x-python",
   "name": "python",
   "nbconvert_exporter": "python",
   "pygments_lexer": "ipython2",
   "version": "2.7.6"
  }
 },
 "nbformat": 4,
 "nbformat_minor": 5
}
