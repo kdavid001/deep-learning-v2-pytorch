{
 "cells": [
  {
   "cell_type": "code",
   "id": "initial_id",
   "metadata": {
    "collapsed": true,
    "ExecuteTime": {
     "end_time": "2025-05-16T12:21:36.111713Z",
     "start_time": "2025-05-16T12:21:31.790302Z"
    }
   },
   "source": "import torch",
   "execution_count": 1,
   "outputs": []
  },
  {
   "metadata": {
    "ExecuteTime": {
     "end_time": "2025-05-16T12:21:36.114986Z",
     "start_time": "2025-05-16T12:21:36.112978Z"
    }
   },
   "cell_type": "code",
   "source": [
    "def sigmoid(x):\n",
    "    return 1/(1+torch.exp(-x))"
   ],
   "id": "b3696e619d936bb4",
   "execution_count": 2,
   "outputs": []
  },
  {
   "metadata": {
    "ExecuteTime": {
     "end_time": "2025-05-16T12:23:15.642486Z",
     "start_time": "2025-05-16T12:23:15.637697Z"
    }
   },
   "cell_type": "code",
   "source": [
    "torch.manual_seed(7)\n",
    "\n",
    "features = torch.randn((1, 5))\n",
    "weights = torch.randn_like(torch.randn((1, 5)))\n",
    "\n",
    "bias = torch.randn((1, 1))"
   ],
   "id": "14687e2722cc2826",
   "execution_count": 19,
   "outputs": []
  },
  {
   "metadata": {
    "ExecuteTime": {
     "end_time": "2025-05-16T12:23:16.132406Z",
     "start_time": "2025-05-16T12:23:16.129733Z"
    }
   },
   "cell_type": "code",
   "source": [
    "# to transpose the matrix\n",
    "features = features.view(5, 1)\n",
    "\n",
    "\"\"\" matmul is used to multiply matrices: note if the matrix(shape) is of the wrong dimentions for multiplication it will not work  \"\"\"\n",
    "\n",
    "# def output(weights, bias, features):\n",
    "#     return sigmoid(torch.sum(torch.mm(weights, features)) + bias)\n",
    "\n",
    "def output(weights, bias, features):\n",
    "    return sigmoid(torch.sum(torch.matmul(weights, features)) + bias)"
   ],
   "id": "45fe7a1587e735b6",
   "execution_count": 20,
   "outputs": []
  },
  {
   "metadata": {
    "ExecuteTime": {
     "end_time": "2025-05-16T12:23:16.667005Z",
     "start_time": "2025-05-16T12:23:16.648050Z"
    }
   },
   "cell_type": "code",
   "source": "y = output(weights, bias, features)",
   "id": "a5e9777dee68c6ca",
   "execution_count": 21,
   "outputs": []
  },
  {
   "metadata": {
    "ExecuteTime": {
     "end_time": "2025-05-16T12:22:57.051617Z",
     "start_time": "2025-05-16T12:22:57.046783Z"
    }
   },
   "cell_type": "code",
   "source": "print(y)",
   "id": "bc0d56a7c48b6a01",
   "execution_count": 15,
   "outputs": []
  },
  {
   "metadata": {
    "ExecuteTime": {
     "end_time": "2025-05-13T11:20:46.542735Z",
     "start_time": "2025-05-13T11:20:46.540363Z"
    }
   },
   "cell_type": "code",
   "source": "",
   "id": "57994d17eafdafc9",
   "execution_count": 20,
   "outputs": []
  }
 ],
 "metadata": {
  "kernelspec": {
   "display_name": "Python 3",
   "language": "python",
   "name": "python3"
  },
  "language_info": {
   "codemirror_mode": {
    "name": "ipython",
    "version": 2
   },
   "file_extension": ".py",
   "mimetype": "text/x-python",
   "name": "python",
   "nbconvert_exporter": "python",
   "pygments_lexer": "ipython2",
   "version": "2.7.6"
  }
 },
 "nbformat": 4,
 "nbformat_minor": 5
}
